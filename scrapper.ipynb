{
 "cells": [
  {
   "cell_type": "markdown",
   "metadata": {},
   "source": [
    "## **WhatsApp Web Scrapping using [simon](https://pypi.org/project/whatsapp-web/)**"
   ]
  },
  {
   "cell_type": "markdown",
   "metadata": {},
   "source": [
    "- possible helpful: https://geeknizer.com/read-extract-whatsapp-messages-android-iphone-blackberry/\n",
    "- infinite scrolling: https://pyautogui.readthedocs.io/en/latest/mouse.html#mouse-scrolling"
   ]
  },
  {
   "cell_type": "code",
   "execution_count": 26,
   "metadata": {},
   "outputs": [],
   "source": [
    "import time\n",
    "from selenium import webdriver\n",
    "from selenium.webdriver.common.by import By\n",
    "from selenium.webdriver.common.keys import Keys\n",
    "from selenium.webdriver.common.action_chains import ActionChains\n",
    "from selenium.common.exceptions import StaleElementReferenceException\n",
    "\n",
    "from simon.accounts.pages import LoginPage\n",
    "from simon.header.pages import HeaderPage\n",
    "from simon.chat.pages import ChatPage\n",
    "from simon.chats.pages import PanePage\n",
    "\n",
    "from bs4 import BeautifulSoup\n",
    "import pprint\n",
    "import os, sys\n",
    "import smtplib\n",
    "import pandas as pd\n",
    "import datetime\n",
    "\n",
    "PATH = \"data/\"\n",
    "\n",
    "def login():\n",
    "    # Web scrapper for infinite scrolling page \n",
    "    driver = webdriver.Chrome(executable_path=r\"C:\\\\Users\\\\jakob\\\\chromedriver.exe\")\n",
    "    #driver.get(\"https://web.whatsapp.com/\")\n",
    "    time.sleep(2)  # Allow 2 seconds for the web page to open\n",
    "\n",
    "    login_page = LoginPage(driver)\n",
    "    login_page.load()\n",
    "    input(\"Please use the QR-Code\")\n",
    "    return driver\n",
    "\n",
    "def get_delta_chat(driver):\n",
    "    # get all chats\n",
    "    all_chats = driver.find_elements_by_class_name(\"_210SC\") \n",
    "    # find DELTA\n",
    "    for chat in all_chats:\n",
    "        soup = BeautifulSoup(chat.text, \"html.parser\")\n",
    "        if \"DELTA\" in soup.text:\n",
    "            print(\"Found DELTA\")\n",
    "            driver.execute_script(\"arguments[0].scrollIntoView();\", chat)\n",
    "            delta_chat = chat\n",
    "            break\n",
    "    # click to focus\n",
    "    delta_chat.click()\n",
    "    return delta_chat\n",
    "\n",
    "def scroll(n_scrolls):\n",
    "    for i in range(n_scrolls):\n",
    "        actions = ActionChains(driver)\n",
    "        actions.send_keys(Keys.UP*5)\n",
    "        actions.perform()\n",
    "        time.sleep(1)\n",
    "    \n",
    "def create_datetime_from_msg(msg):\n",
    "    \n",
    "    time_and_autor = msg.raw_datetime_and_contact()\n",
    "\n",
    "    t, a = time_and_autor.split(\"] \")\n",
    "    author = a[:-2]\n",
    "    time_, date = t[1:].split(\", \")\n",
    "\n",
    "    dt = datetime.datetime.strptime(time_+\",\"+date, \"%H:%M,%d.%m.%Y\")\n",
    "    return dt\n",
    "        \n",
    "def check_if_msg_already_in_df(msgs, dt_last_in_df):\n",
    "    counter = 0\n",
    "    for i, msg in enumerate(msgs):\n",
    "        # print(f\"Message nr. {i+1}\")\n",
    "        try:\n",
    "            dt = create_datetime_from_msg(msg)\n",
    "            # print(dt)\n",
    "        except AttributeError:\n",
    "            # print(\"Exception\")\n",
    "            dt = datetime.datetime.now()\n",
    "            continue\n",
    "            \n",
    "        if dt == dt_last_in_df:\n",
    "            print(f\"Message on {dt.strftime('%H:%M, %d:%m:%y')} already in database -> break!\")\n",
    "            stop = True\n",
    "            break\n",
    "        else:\n",
    "            stop = False\n",
    "        counter += 1\n",
    "    return stop, counter  \n",
    "\n",
    "def merge_dataframes(msgs, chat_df, dt_last_in_df, save_=True):\n",
    "    rows = []\n",
    "    for i, msg in enumerate(msgs):\n",
    "        try:\n",
    "            dt = create_datetime_from_msg(msg)\n",
    "            text = msg.text\n",
    "            if text == None:\n",
    "                text = \"pic-or-gif\"\n",
    "            d1 = dict(Time=dt.strftime(\"%H:%M\"), Date=dt.strftime(\"%d.%m.%y\"), Author=msg.contact, Text=text, Text_lower=text.lower())\n",
    "        except:\n",
    "            pass\n",
    "        if dt == dt_last_in_df:\n",
    "            print(f\"Message on {dt.strftime('%H:%M, %d:%m:%y')} already in database -> break!\")\n",
    "            stop = True\n",
    "            break\n",
    "        else:\n",
    "            rows.append(d1)\n",
    "    df_ = pd.DataFrame(rows)\n",
    "    df_c = pd.concat([chat_df, df_.sort_index(ascending=False)], ignore_index=True)\n",
    "    if save_:\n",
    "        save_time = datetime.datetime.fromtimestamp(time.time())\n",
    "        fname = f\"chat_{save_time.strftime('%d_%m_%y')}.csv\"\n",
    "        print(\"Save Chat to \", PATH+fname)\n",
    "        df_c.to_csv(fname)\n",
    "    return df_c"
   ]
  },
  {
   "cell_type": "code",
   "execution_count": 15,
   "metadata": {},
   "outputs": [],
   "source": [
    "# get the chat dataframe and the last message\n",
    "chat_df = pd.read_csv(\"data/chat_04_10_20.csv\", index_col=\"idx\")\n",
    "col_names = chat_df.columns\n",
    "last_message_time_and_date = chat_df.iloc[-1][\"Time\"], chat_df.iloc[-1][\"Date\"]\n",
    "datetime_lm = datetime.datetime.strptime(last_message_time_and_date[0]+\",\"+last_message_time_and_date[1], \"%H:%M,%d.%m.%y\")"
   ]
  },
  {
   "cell_type": "code",
   "execution_count": 16,
   "metadata": {},
   "outputs": [
    {
     "name": "stdout",
     "output_type": "stream",
     "text": [
      "Please use the QR-Code\n"
     ]
    }
   ],
   "source": [
    "# login to whatsapp\n",
    "driver = login()\n",
    "time.sleep(1)"
   ]
  },
  {
   "cell_type": "code",
   "execution_count": 17,
   "metadata": {},
   "outputs": [
    {
     "name": "stdout",
     "output_type": "stream",
     "text": [
      "Found DELTA\n"
     ]
    }
   ],
   "source": [
    "# get the delta chat\n",
    "delta_chat = get_delta_chat(driver=driver)\n",
    "time.sleep(0.1)"
   ]
  },
  {
   "cell_type": "code",
   "execution_count": 18,
   "metadata": {},
   "outputs": [
    {
     "name": "stdout",
     "output_type": "stream",
     "text": [
      "MESSAGE COUNTER AT =============================== 29\n",
      "MESSAGE COUNTER AT =============================== 55\n",
      "MESSAGE COUNTER AT =============================== 76\n",
      "MESSAGE COUNTER AT =============================== 76\n",
      "MESSAGE COUNTER AT =============================== 104\n",
      "MESSAGE COUNTER AT =============================== 104\n",
      "MESSAGE COUNTER AT =============================== 104\n",
      "MESSAGE COUNTER AT =============================== 104\n",
      "MESSAGE COUNTER AT =============================== 104\n",
      "MESSAGE COUNTER AT =============================== 119\n",
      "MESSAGE COUNTER AT =============================== 119\n",
      "MESSAGE COUNTER AT =============================== 119\n",
      "MESSAGE COUNTER AT =============================== 119\n",
      "MESSAGE COUNTER AT =============================== 119\n",
      "MESSAGE COUNTER AT =============================== 119\n",
      "MESSAGE COUNTER AT =============================== 119\n",
      "MESSAGE COUNTER AT =============================== 132\n",
      "MESSAGE COUNTER AT =============================== 132\n",
      "MESSAGE COUNTER AT =============================== 132\n",
      "MESSAGE COUNTER AT =============================== 132\n",
      "MESSAGE COUNTER AT =============================== 132\n",
      "MESSAGE COUNTER AT =============================== 132\n",
      "MESSAGE COUNTER AT =============================== 132\n",
      "MESSAGE COUNTER AT =============================== 154\n",
      "MESSAGE COUNTER AT =============================== 158\n",
      "MESSAGE COUNTER AT =============================== 158\n",
      "MESSAGE COUNTER AT =============================== 158\n",
      "MESSAGE COUNTER AT =============================== 158\n",
      "MESSAGE COUNTER AT =============================== 158\n",
      "MESSAGE COUNTER AT =============================== 158\n",
      "MESSAGE COUNTER AT =============================== 158\n",
      "MESSAGE COUNTER AT =============================== 158\n",
      "MESSAGE COUNTER AT =============================== 158\n",
      "MESSAGE COUNTER AT =============================== 202\n",
      "MESSAGE COUNTER AT =============================== 202\n",
      "Message on 10:40, 04:10:20 already in database -> break!\n",
      "MESSAGE COUNTER AT =============================== 212\n",
      "Message on 10:40, 04:10:20 already in database -> break!\n",
      "Save Chat to  chat_29_10_20.csv\n"
     ]
    }
   ],
   "source": [
    "def parse_chat(driver, datetime_lm, chat_df)\n",
    "    # find any message and click it\n",
    "    msg = driver.find_element_by_xpath(\"/html/body/div[1]/div/div/div[4]/div/div[3]/div/div/div[3]/div[13]/div\")\n",
    "    msg.click()\n",
    "    time.sleep(1)\n",
    "    # scroll through the chat and check if the messages are already in the dataframe\n",
    "    stop_scrolling = False\n",
    "    while not stop_scrolling:\n",
    "\n",
    "        scroll(n_scrolls=5)    \n",
    "        # use simon to extract all messages\n",
    "        chatPage = ChatPage(driver)\n",
    "        msgs = chatPage.messages.all()\n",
    "\n",
    "        stop_scrolling, counter = check_if_msg_already_in_df(msgs, dt_last_in_df=datetime_lm)\n",
    "        print(\"MESSAGE COUNTER AT \".ljust(50, \"=\"), counter)  \n",
    "    time.sleep(1)\n",
    "    # generate the new dataframe and save it\n",
    "    df = merge_dataframes(msgs=msgs, chat_df=chat_df, dt_last_in_df=datetime_lm, save_=True)\n",
    "    return df"
   ]
  },
  {
   "cell_type": "code",
   "execution_count": 27,
   "metadata": {},
   "outputs": [],
   "source": [
    "mgl = pd.read_csv(PATH+\"mgl_list.csv\")\n"
   ]
  },
  {
   "cell_type": "code",
   "execution_count": 29,
   "metadata": {},
   "outputs": [
    {
     "name": "stdout",
     "output_type": "stream",
     "text": [
      "patzegg@gmail.com\n",
      "cooper_@gmx.at\n",
      "p.gerges21@gmail.com\n",
      "stefannego93@gmail.com\n",
      "weberjakob64@gmail.com\n"
     ]
    }
   ],
   "source": [
    "for email in mgl[\"Email\"]:\n",
    "    print(email)"
   ]
  },
  {
   "cell_type": "code",
   "execution_count": 43,
   "metadata": {},
   "outputs": [],
   "source": [
    "df_s = pd.read_csv(PATH+\"sitzungen.csv\")\n",
    "date = datetime.datetime(year=2020, month=12, day=2)\n",
    "df_s[\"Date\"]= pd.to_datetime(df_s[\"Date\"], format=\"%d.%m.%y\")\n",
    "new_dates = df_s[df_s[\"Date\"] > date]"
   ]
  },
  {
   "cell_type": "code",
   "execution_count": 52,
   "metadata": {},
   "outputs": [
    {
     "data": {
      "text/html": [
       "<div>\n",
       "<style scoped>\n",
       "    .dataframe tbody tr th:only-of-type {\n",
       "        vertical-align: middle;\n",
       "    }\n",
       "\n",
       "    .dataframe tbody tr th {\n",
       "        vertical-align: top;\n",
       "    }\n",
       "\n",
       "    .dataframe thead th {\n",
       "        text-align: right;\n",
       "    }\n",
       "</style>\n",
       "<table border=\"1\" class=\"dataframe\">\n",
       "  <thead>\n",
       "    <tr style=\"text-align: right;\">\n",
       "      <th></th>\n",
       "      <th>Date</th>\n",
       "      <th>Type</th>\n",
       "      <th>Chair</th>\n",
       "    </tr>\n",
       "  </thead>\n",
       "  <tbody>\n",
       "    <tr>\n",
       "      <th>0</th>\n",
       "      <td>2019-06-17</td>\n",
       "      <td>Rat</td>\n",
       "      <td>Jakob</td>\n",
       "    </tr>\n",
       "    <tr>\n",
       "      <th>1</th>\n",
       "      <td>2019-09-11</td>\n",
       "      <td>Rat</td>\n",
       "      <td>Peter</td>\n",
       "    </tr>\n",
       "    <tr>\n",
       "      <th>2</th>\n",
       "      <td>2019-11-22</td>\n",
       "      <td>Rat</td>\n",
       "      <td>Andre</td>\n",
       "    </tr>\n",
       "    <tr>\n",
       "      <th>3</th>\n",
       "      <td>2020-03-13</td>\n",
       "      <td>Rat</td>\n",
       "      <td>Nego</td>\n",
       "    </tr>\n",
       "    <tr>\n",
       "      <th>4</th>\n",
       "      <td>2020-06-06</td>\n",
       "      <td>Rat</td>\n",
       "      <td>Jakob</td>\n",
       "    </tr>\n",
       "    <tr>\n",
       "      <th>5</th>\n",
       "      <td>2020-09-16</td>\n",
       "      <td>Rat</td>\n",
       "      <td>Peter</td>\n",
       "    </tr>\n",
       "    <tr>\n",
       "      <th>6</th>\n",
       "      <td>2020-11-04</td>\n",
       "      <td>Budget</td>\n",
       "      <td>Andre</td>\n",
       "    </tr>\n",
       "  </tbody>\n",
       "</table>\n",
       "</div>"
      ],
      "text/plain": [
       "        Date    Type  Chair\n",
       "0 2019-06-17     Rat  Jakob\n",
       "1 2019-09-11     Rat  Peter\n",
       "2 2019-11-22     Rat  Andre\n",
       "3 2020-03-13     Rat   Nego\n",
       "4 2020-06-06     Rat  Jakob\n",
       "5 2020-09-16     Rat  Peter\n",
       "6 2020-11-04  Budget  Andre"
      ]
     },
     "execution_count": 52,
     "metadata": {},
     "output_type": "execute_result"
    }
   ],
   "source": [
    "df_s"
   ]
  },
  {
   "cell_type": "code",
   "execution_count": 59,
   "metadata": {},
   "outputs": [],
   "source": [
    "import time\n",
    "import datetime\n",
    "\n",
    "def check_sitzungen():\n",
    "    \"\"\"Read the file sitzungen.csv and check if there are planned Sitzungen. \"\"\"\n",
    "    df_s = pd.read_csv(PATH+\"sitzungen.csv\")\n",
    "    date = datetime.datetime.now()\n",
    "    df_s[\"Date\"]= pd.to_datetime(df_s[\"Date\"], format=\"%d.%m.%y\")\n",
    "    new_dates = df_s[df_s[\"Date\"] > date]\n",
    "    if not new_dates.empty:\n",
    "        print(\"We have planned meetings!\")\n",
    "    return new_dates\n",
    "    \n",
    "def send_mails(dates, send_to=False):\n",
    "    \n",
    "    smtpObj = smtplib.SMTP(\"smtp.gmail.com\", 587)\n",
    "    smtpObj.ehlo()\n",
    "    smtpObj.starttls()\n",
    "    pw = input(\"Insert Password\")\n",
    "    smtpObj.login(\"weberjakob64@gmail.com\", password=pw)\n",
    "\n",
    "    body = f\"Subject: Reminder: Naechste Sitzung. Die naechste Sitzung ist von Type {new.iloc[-1]['Type']} am {new.iloc[-1]['Date'].strftime('%d.%m.%y')}\"\n",
    "    if send_to:\n",
    "        print(\"Sending email to %s...\"%send_to)\n",
    "        sendmailStatus = smtpObj.sendmail(\"weberjakob64@gmail.com\", send_to, body.encode(\"utf-8\"))\n",
    "        if sendmailStatus != {}:\n",
    "            print(f\"There was a problem sending mail to {email}:{sendmailStatus}\")\n",
    "    else:\n",
    "        mgl = pd.read_csv(PATH+\"mgl_list.csv\")\n",
    "        for email in mgl[\"Email\"]:\n",
    "            print(\"Sending email to %s...\"%email)\n",
    "            sendmailStatus = smtpObj.sendmail(\"weberjakob64@gmail.com\", email, body.encode(\"utf-8\"))\n",
    "            if sendmailStatus != {}:\n",
    "                print(f\"There was a problem sending mail to {email}:{sendmailStatus}\")\n",
    "    smtpObj.quit()\n",
    "    print(\"Finished\")\n",
    "    "
   ]
  },
  {
   "cell_type": "code",
   "execution_count": 60,
   "metadata": {},
   "outputs": [
    {
     "name": "stdout",
     "output_type": "stream",
     "text": [
      "We have planned meetings!\n"
     ]
    }
   ],
   "source": [
    "new = check_sitzungen()"
   ]
  },
  {
   "cell_type": "code",
   "execution_count": 61,
   "metadata": {},
   "outputs": [
    {
     "data": {
      "text/html": [
       "<div>\n",
       "<style scoped>\n",
       "    .dataframe tbody tr th:only-of-type {\n",
       "        vertical-align: middle;\n",
       "    }\n",
       "\n",
       "    .dataframe tbody tr th {\n",
       "        vertical-align: top;\n",
       "    }\n",
       "\n",
       "    .dataframe thead th {\n",
       "        text-align: right;\n",
       "    }\n",
       "</style>\n",
       "<table border=\"1\" class=\"dataframe\">\n",
       "  <thead>\n",
       "    <tr style=\"text-align: right;\">\n",
       "      <th></th>\n",
       "      <th>Date</th>\n",
       "      <th>Type</th>\n",
       "      <th>Chair</th>\n",
       "    </tr>\n",
       "  </thead>\n",
       "  <tbody>\n",
       "    <tr>\n",
       "      <th>6</th>\n",
       "      <td>2020-11-04</td>\n",
       "      <td>Budget</td>\n",
       "      <td>Andre</td>\n",
       "    </tr>\n",
       "  </tbody>\n",
       "</table>\n",
       "</div>"
      ],
      "text/plain": [
       "        Date    Type  Chair\n",
       "6 2020-11-04  Budget  Andre"
      ]
     },
     "execution_count": 61,
     "metadata": {},
     "output_type": "execute_result"
    }
   ],
   "source": [
    "new"
   ]
  },
  {
   "cell_type": "code",
   "execution_count": 62,
   "metadata": {},
   "outputs": [
    {
     "name": "stdout",
     "output_type": "stream",
     "text": [
      "Insert PasswordGo_caramellatte_01\n",
      "Sending email to jakobweber@hotmail.com...\n",
      "Finished\n"
     ]
    }
   ],
   "source": [
    "send_mails(dates=new, send_to=\"jakobweber@hotmail.com\")"
   ]
  },
  {
   "cell_type": "code",
   "execution_count": null,
   "metadata": {},
   "outputs": [],
   "source": []
  }
 ],
 "metadata": {
  "kernelspec": {
   "display_name": "Python 3.7.6 64-bit ('base': conda)",
   "language": "python",
   "name": "python37664bitbasecondae5eb1bf0d30941629ac7f834266d8965"
  },
  "language_info": {
   "codemirror_mode": {
    "name": "ipython",
    "version": 3
   },
   "file_extension": ".py",
   "mimetype": "text/x-python",
   "name": "python",
   "nbconvert_exporter": "python",
   "pygments_lexer": "ipython3",
   "version": "3.8.3"
  }
 },
 "nbformat": 4,
 "nbformat_minor": 4
}
