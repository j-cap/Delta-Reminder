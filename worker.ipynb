{
 "cells": [
  {
   "cell_type": "markdown",
   "metadata": {},
   "source": [
    "## **Read all Dates from the Delta Chat and save them in a separate file**"
   ]
  },
  {
   "cell_type": "code",
   "execution_count": 36,
   "metadata": {},
   "outputs": [],
   "source": [
    "import pandas as pd\n",
    "import os, sys\n",
    "import datetime\n",
    "from datetime import datetime\n",
    "\n",
    "from tqdm import tqdm\n",
    "\n",
    "def parse_delta_chat(fname):\n",
    "    \"\"\"Read the file name and create a pd.DataFrame with one row per chat message. \"\"\"\n",
    "    with open(fname, \"r\", encoding=\"utf-8\") as f:\n",
    "        lines = f.readlines()\n",
    "    \n",
    "    df = pd.DataFrame(columns=[\"Time\", \"Date\", \"Author\", \"Text\"])\n",
    "    \n",
    "    for idx, row in tqdm(enumerate(lines[3:])):\n",
    "        try:\n",
    "            time, msg = row.split(\" - \")\n",
    "            d = datetime.strptime(time, \"%d.%m.%y, %H:%M\")\n",
    "            author, text = msg.split(\": \")\n",
    "            text = text\n",
    "        except:\n",
    "            text = row\n",
    "            time = df.loc[idx-1][\"Date\"] + \", \" + df.loc[idx-1][\"Time\"]\n",
    "            d = datetime.strptime(time, \"%d.%m.%y, %H:%M\")\n",
    "            author = df.loc[idx-1][\"Author\"]\n",
    "        df.loc[idx] = dict(Time=d.strftime(\"%H:%M\"), Date=d.strftime(\"%d.%m.%y\"), Author=author, Text=text[:-1])\n",
    "        \n",
    "    print(\"Shape precleanded: \", df.shape)\n",
    "    # Clean all NaN Values\n",
    "    clean = input(\"Delete all rows with NaN?? y - n\")\n",
    "    if clean == \"y\":\n",
    "        df.to_csv(\"test_save.csv\", index=False)\n",
    "        df = pd.read_csv(\"test_save.csv\")\n",
    "        os.remove(\"test_save.csv\")\n",
    "        isnan = df.isnull().any(axis=1)\n",
    "        dfclean = df[~isnan]\n",
    "        dfclean.reset_index()\n",
    "        print(\"Dfclean shape = \", dfclean.shape)\n",
    "        return dfclean\n",
    "    else:\n",
    "        return df"
   ]
  },
  {
   "cell_type": "code",
   "execution_count": 37,
   "metadata": {},
   "outputs": [],
   "source": [
    "fname = \"data/DELTAchat_J_raw.txt\"\n"
   ]
  },
  {
   "cell_type": "code",
   "execution_count": 38,
   "metadata": {},
   "outputs": [
    {
     "name": "stderr",
     "output_type": "stream",
     "text": [
      "12046it [00:35, 342.71it/s]\n"
     ]
    },
    {
     "name": "stdout",
     "output_type": "stream",
     "text": [
      "Shape precleanded:  (12046, 4)\n",
      "Delete all rows with NaN?? y - ny\n",
      "Dfclean shape =  (11958, 4)\n"
     ]
    }
   ],
   "source": [
    "df = parse_delta_chat(fname)"
   ]
  },
  {
   "cell_type": "code",
   "execution_count": 49,
   "metadata": {},
   "outputs": [],
   "source": [
    "for row in df.iterrows():\n",
    "    if row[1][\"Text\"] is None:\n",
    "        print(\"is none\")\n",
    "        break"
   ]
  },
  {
   "cell_type": "code",
   "execution_count": 56,
   "metadata": {},
   "outputs": [],
   "source": [
    "df.to_csv(\"data/chat_21_09_20.csv\", index=False)"
   ]
  },
  {
   "cell_type": "code",
   "execution_count": 55,
   "metadata": {},
   "outputs": [],
   "source": [
    "df[\"Text_lower\"] = df[\"Text\"].str.lower()"
   ]
  },
  {
   "cell_type": "code",
   "execution_count": 15,
   "metadata": {},
   "outputs": [],
   "source": [
    "with open(fname, \"r\", encoding=\"utf-8\") as f:\n",
    "    lines = f.readlines()"
   ]
  },
  {
   "cell_type": "code",
   "execution_count": 10,
   "metadata": {},
   "outputs": [],
   "source": [
    "row = lines[123]"
   ]
  },
  {
   "cell_type": "code",
   "execution_count": 11,
   "metadata": {},
   "outputs": [],
   "source": [
    "time, msg = row.split(\" - \")\n",
    "d = datetime.strptime(time, \"%d.%m.%y, %H:%M\")\n",
    "author, text = msg.split(\": \")\n",
    "text = text"
   ]
  },
  {
   "cell_type": "code",
   "execution_count": 57,
   "metadata": {},
   "outputs": [],
   "source": [
    "df = pd.read_csv(\"data/chat_21_09_20.csv\")"
   ]
  },
  {
   "cell_type": "code",
   "execution_count": 59,
   "metadata": {},
   "outputs": [],
   "source": [
    "df.to_csv(\"data/chat_21_09_20.csv\", index=\"idx\")"
   ]
  },
  {
   "cell_type": "code",
   "execution_count": 4,
   "metadata": {},
   "outputs": [
    {
     "data": {
      "text/html": [
       "<div>\n",
       "<style scoped>\n",
       "    .dataframe tbody tr th:only-of-type {\n",
       "        vertical-align: middle;\n",
       "    }\n",
       "\n",
       "    .dataframe tbody tr th {\n",
       "        vertical-align: top;\n",
       "    }\n",
       "\n",
       "    .dataframe thead th {\n",
       "        text-align: right;\n",
       "    }\n",
       "</style>\n",
       "<table border=\"1\" class=\"dataframe\">\n",
       "  <thead>\n",
       "    <tr style=\"text-align: right;\">\n",
       "      <th></th>\n",
       "      <th>Time</th>\n",
       "      <th>Date</th>\n",
       "      <th>Author</th>\n",
       "      <th>Text</th>\n",
       "    </tr>\n",
       "  </thead>\n",
       "  <tbody>\n",
       "    <tr>\n",
       "      <th>2090</th>\n",
       "      <td>12:42</td>\n",
       "      <td>29.09.18</td>\n",
       "      <td>Andre Kolar</td>\n",
       "      <td>Das ist ein Notstand-Einsatzbefehl (Übungsnots...</td>\n",
       "    </tr>\n",
       "    <tr>\n",
       "      <th>2558</th>\n",
       "      <td>21:01</td>\n",
       "      <td>25.10.18</td>\n",
       "      <td>Nego Negovanovic</td>\n",
       "      <td>Das ist ein Notstand-Einsatzbefehl (Übungsnots...</td>\n",
       "    </tr>\n",
       "    <tr>\n",
       "      <th>3315</th>\n",
       "      <td>14:00</td>\n",
       "      <td>15.12.18</td>\n",
       "      <td>Andre Kolar</td>\n",
       "      <td>Das ist ein Notstand-Einsatzbefehl.</td>\n",
       "    </tr>\n",
       "    <tr>\n",
       "      <th>3408</th>\n",
       "      <td>18:32</td>\n",
       "      <td>22.12.18</td>\n",
       "      <td>Peter Gerges</td>\n",
       "      <td>Das ist ein Notstand-Einsatzbefehl (Übungsnots...</td>\n",
       "    </tr>\n",
       "    <tr>\n",
       "      <th>5181</th>\n",
       "      <td>17:55</td>\n",
       "      <td>19.04.19</td>\n",
       "      <td>Jakob</td>\n",
       "      <td>Das ist ein notstand-Einsatzbefehl (Übungsnots...</td>\n",
       "    </tr>\n",
       "    <tr>\n",
       "      <th>6497</th>\n",
       "      <td>10:29</td>\n",
       "      <td>08.07.19</td>\n",
       "      <td>Peter Gerges</td>\n",
       "      <td>Das ist ein Notstand-Einsatzbefehl (Übungsnots...</td>\n",
       "    </tr>\n",
       "    <tr>\n",
       "      <th>7966</th>\n",
       "      <td>16:52</td>\n",
       "      <td>12.10.19</td>\n",
       "      <td>Patrick Aman</td>\n",
       "      <td>Das ist ein Notstand-Einsatzbefehl</td>\n",
       "    </tr>\n",
       "    <tr>\n",
       "      <th>8335</th>\n",
       "      <td>22:21</td>\n",
       "      <td>15.11.19</td>\n",
       "      <td>Nego Negovanovic</td>\n",
       "      <td>Dies ist ein Notstand-Einsatzbefehl gemäß D-VG.</td>\n",
       "    </tr>\n",
       "    <tr>\n",
       "      <th>8500</th>\n",
       "      <td>17:37</td>\n",
       "      <td>01.12.19</td>\n",
       "      <td>Andre Kolar</td>\n",
       "      <td>Dies ist ein Notstand-Einsatzbefehl (Übungsnot...</td>\n",
       "    </tr>\n",
       "    <tr>\n",
       "      <th>8913</th>\n",
       "      <td>18:59</td>\n",
       "      <td>23.12.19</td>\n",
       "      <td>Peter Gerges</td>\n",
       "      <td>Das ist ein Notstand-Einsatzbefehl.</td>\n",
       "    </tr>\n",
       "    <tr>\n",
       "      <th>9210</th>\n",
       "      <td>17:33</td>\n",
       "      <td>21.01.20</td>\n",
       "      <td>Nego Negovanovic</td>\n",
       "      <td>Dies ist ein Notstand-Einsatzbefehl (mein Übun...</td>\n",
       "    </tr>\n",
       "    <tr>\n",
       "      <th>11056</th>\n",
       "      <td>20:58</td>\n",
       "      <td>03.07.20</td>\n",
       "      <td>Peter Gerges</td>\n",
       "      <td>Dies ist ein Notstand-Einsatzbefehl (mein Übun...</td>\n",
       "    </tr>\n",
       "    <tr>\n",
       "      <th>11539</th>\n",
       "      <td>13:32</td>\n",
       "      <td>15.08.20</td>\n",
       "      <td>Patrick Aman</td>\n",
       "      <td>Dies ist ein Notstand-Einsatzbefehl für Samsta...</td>\n",
       "    </tr>\n",
       "  </tbody>\n",
       "</table>\n",
       "</div>"
      ],
      "text/plain": [
       "        Time      Date            Author  \\\n",
       "2090   12:42  29.09.18       Andre Kolar   \n",
       "2558   21:01  25.10.18  Nego Negovanovic   \n",
       "3315   14:00  15.12.18       Andre Kolar   \n",
       "3408   18:32  22.12.18      Peter Gerges   \n",
       "5181   17:55  19.04.19             Jakob   \n",
       "6497   10:29  08.07.19      Peter Gerges   \n",
       "7966   16:52  12.10.19      Patrick Aman   \n",
       "8335   22:21  15.11.19  Nego Negovanovic   \n",
       "8500   17:37  01.12.19       Andre Kolar   \n",
       "8913   18:59  23.12.19      Peter Gerges   \n",
       "9210   17:33  21.01.20  Nego Negovanovic   \n",
       "11056  20:58  03.07.20      Peter Gerges   \n",
       "11539  13:32  15.08.20      Patrick Aman   \n",
       "\n",
       "                                                    Text  \n",
       "2090   Das ist ein Notstand-Einsatzbefehl (Übungsnots...  \n",
       "2558   Das ist ein Notstand-Einsatzbefehl (Übungsnots...  \n",
       "3315                 Das ist ein Notstand-Einsatzbefehl.  \n",
       "3408   Das ist ein Notstand-Einsatzbefehl (Übungsnots...  \n",
       "5181   Das ist ein notstand-Einsatzbefehl (Übungsnots...  \n",
       "6497   Das ist ein Notstand-Einsatzbefehl (Übungsnots...  \n",
       "7966                 Das ist ein Notstand-Einsatzbefehl   \n",
       "8335     Dies ist ein Notstand-Einsatzbefehl gemäß D-VG.  \n",
       "8500   Dies ist ein Notstand-Einsatzbefehl (Übungsnot...  \n",
       "8913                 Das ist ein Notstand-Einsatzbefehl.  \n",
       "9210   Dies ist ein Notstand-Einsatzbefehl (mein Übun...  \n",
       "11056  Dies ist ein Notstand-Einsatzbefehl (mein Übun...  \n",
       "11539  Dies ist ein Notstand-Einsatzbefehl für Samsta...  "
      ]
     },
     "execution_count": 4,
     "metadata": {},
     "output_type": "execute_result"
    }
   ],
   "source": [
    "dfclean[dfclean[\"Text\"].str.contains(\"Einsatzbefehl\")]"
   ]
  },
  {
   "cell_type": "code",
   "execution_count": null,
   "metadata": {},
   "outputs": [],
   "source": []
  },
  {
   "cell_type": "code",
   "execution_count": null,
   "metadata": {},
   "outputs": [],
   "source": []
  },
  {
   "cell_type": "code",
   "execution_count": null,
   "metadata": {},
   "outputs": [],
   "source": []
  },
  {
   "cell_type": "code",
   "execution_count": null,
   "metadata": {},
   "outputs": [],
   "source": []
  },
  {
   "cell_type": "code",
   "execution_count": null,
   "metadata": {},
   "outputs": [],
   "source": []
  },
  {
   "cell_type": "code",
   "execution_count": null,
   "metadata": {},
   "outputs": [],
   "source": []
  },
  {
   "cell_type": "code",
   "execution_count": null,
   "metadata": {},
   "outputs": [],
   "source": []
  }
 ],
 "metadata": {
  "kernelspec": {
   "display_name": "Python 3.7.6 64-bit ('base': conda)",
   "language": "python",
   "name": "python37664bitbasecondae5eb1bf0d30941629ac7f834266d8965"
  },
  "language_info": {
   "codemirror_mode": {
    "name": "ipython",
    "version": 3
   },
   "file_extension": ".py",
   "mimetype": "text/x-python",
   "name": "python",
   "nbconvert_exporter": "python",
   "pygments_lexer": "ipython3",
   "version": "3.8.3"
  }
 },
 "nbformat": 4,
 "nbformat_minor": 4
}
